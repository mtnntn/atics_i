{
 "cells": [
  {
   "cell_type": "code",
   "execution_count": 1,
   "metadata": {
    "collapsed": true
   },
   "outputs": [],
   "source": [
    "import os\n",
    "import csv\n",
    "import pandas as pd\n",
    "from DatetimeExtractor import *\n",
    "\n",
    "claims_folder = os.path.join(\"..\", \"..\", \"datasets\", \"flights\", \"clean_flight\")\n",
    "groundtruth_folder = os.path.join(\"..\", \"..\",\"datasets\", \"flights\", \"flight_truth\")\n",
    "\n",
    "all_claims_filename = \"clean_flight.csv\"\n",
    "all_truth_filename = \"flight_truth.csv\"\n",
    "\n",
    "all_claims_file = os.path.join(claims_folder, all_claims_filename)\n",
    "all_groundtruth_file = os.path.join(groundtruth_folder, all_truth_filename)"
   ]
  },
  {
   "cell_type": "code",
   "execution_count": 2,
   "metadata": {
    "collapsed": true
   },
   "outputs": [],
   "source": [
    "header_claims = [\n",
    "    \"source\",\n",
    "    \"flight_number\",\n",
    "    \"scheduled_departure\",\n",
    "    \"actual_departure\",\n",
    "    \"departure_gate\", \n",
    "    \"scheduled_arrival\",\n",
    "    \"actual_arrival\",\n",
    "    \"arrival_gate\",\n",
    "]"
   ]
  },
  {
   "cell_type": "code",
   "execution_count": 3,
   "metadata": {
    "collapsed": true
   },
   "outputs": [],
   "source": [
    "def import_gate(gate):\n",
    "    gate = gate.strip()\n",
    "    gate = gate.upper()\n",
    "    if gate == \"-\" or gate == \"--\" or gate == \"\" or gate == \"?\" or gate == \"$\" or gate == \"NOT PROVIDED BY AIRLINE\" or gate is None:\n",
    "        gate = \"-\"\n",
    "    return gate"
   ]
  },
  {
   "cell_type": "code",
   "execution_count": 4,
   "metadata": {
    "collapsed": true
   },
   "outputs": [],
   "source": [
    "if os.path.isfile(all_claims_file):\n",
    "    os.remove(all_claims_file)"
   ]
  },
  {
   "cell_type": "code",
   "execution_count": 5,
   "metadata": {},
   "outputs": [
    {
     "name": "stdout",
     "output_type": "stream",
     "text": [
      "Importing: ../../datasets/flights/clean_flight/2011-12-10-data.txt\n",
      "Importing: ../../datasets/flights/clean_flight/2011-12-29-data.txt\n",
      "Importing: ../../datasets/flights/clean_flight/2011-12-14-data.txt\n",
      "Importing: ../../datasets/flights/clean_flight/2011-12-08-data.txt\n",
      "Importing: ../../datasets/flights/clean_flight/2011-12-27-data.txt\n",
      "Importing: ../../datasets/flights/clean_flight/2011-12-30-data.txt\n",
      "Importing: ../../datasets/flights/clean_flight/2011-12-09-data.txt\n",
      "Importing: ../../datasets/flights/clean_flight/2011-12-11-data.txt\n",
      "Importing: ../../datasets/flights/clean_flight/2011-12-19-data.txt\n",
      "Importing: ../../datasets/flights/clean_flight/2012-01-02-data.txt\n",
      "Importing: ../../datasets/flights/clean_flight/2011-12-16-data.txt\n",
      "Importing: ../../datasets/flights/clean_flight/2011-12-31-data.txt\n",
      "Importing: ../../datasets/flights/clean_flight/2011-12-02-data.txt\n",
      "Importing: ../../datasets/flights/clean_flight/2011-12-07-data.txt\n",
      "Importing: ../../datasets/flights/clean_flight/2011-12-28-data.txt\n",
      "Importing: ../../datasets/flights/clean_flight/2011-12-03-data.txt\n",
      "Importing: ../../datasets/flights/clean_flight/2011-12-20-data.txt\n",
      "Importing: ../../datasets/flights/clean_flight/2011-12-25-data.txt\n",
      "Importing: ../../datasets/flights/clean_flight/2011-12-15-data.txt\n",
      "Importing: ../../datasets/flights/clean_flight/2011-12-18-data.txt\n",
      "Importing: ../../datasets/flights/clean_flight/2011-12-01-data.txt\n",
      "Importing: ../../datasets/flights/clean_flight/2011-12-04-data.txt\n",
      "Importing: ../../datasets/flights/clean_flight/2011-12-22-data.txt\n",
      "Importing: ../../datasets/flights/clean_flight/2011-12-26-data.txt\n",
      "Importing: ../../datasets/flights/clean_flight/2011-12-12-data.txt\n",
      "Importing: ../../datasets/flights/clean_flight/2012-01-03-data.txt\n",
      "Importing: ../../datasets/flights/clean_flight/2012-01-01-data.txt\n",
      "Importing: ../../datasets/flights/clean_flight/2011-12-17-data.txt\n",
      "Importing: ../../datasets/flights/clean_flight/2011-12-24-data.txt\n",
      "Importing: ../../datasets/flights/clean_flight/2011-12-13-data.txt\n",
      "Importing: ../../datasets/flights/clean_flight/2011-12-05-data.txt\n"
     ]
    }
   ],
   "source": [
    "clean_claims = list()\n",
    "\n",
    "# claims input files, ignore any other hidden file in the folder...\n",
    "claims_files = [f for f in os.listdir(claims_folder) if not f.startswith('.')]\n",
    "\n",
    "for file_name in claims_files:\n",
    "    \n",
    "    file_path = os.path.join(claims_folder, file_name)\n",
    "\n",
    "    print(\"Importing: \" + file_path)\n",
    "\n",
    "    with open(file_path, \"r\", encoding=\"iso-8859-1\") as f:\n",
    "       \n",
    "        reader = csv.reader(f, delimiter='\\t')\n",
    "        year, month, day, c = file_name.split(\"-\")\n",
    "        dt_ex = DatetimeExtractor(int(year), int(month), int(day))\n",
    "\n",
    "        for i, row in enumerate(reader):\n",
    "            try:\n",
    "                source = row[header_claims.index(\"source\")].strip().upper()\n",
    "                flight = row[header_claims.index(\"flight_number\")].strip().upper()\n",
    "                departure_gate = import_gate(row[header_claims.index(\"departure_gate\")])  # one hot\n",
    "                arrival_gate = import_gate(row[header_claims.index(\"arrival_gate\")])  # one hot\n",
    "                scheduled_departure = dt_ex.get_datetime(row[header_claims.index(\"scheduled_departure\")])\n",
    "                scheduled_arrival = dt_ex.get_datetime(row[header_claims.index(\"scheduled_arrival\")])\n",
    "                actual_departure = dt_ex.get_datetime(row[header_claims.index(\"actual_departure\")])\n",
    "                actual_arrival = dt_ex.get_datetime(row[header_claims.index(\"actual_arrival\")])    \n",
    "            except Exception as p:\n",
    "                print(p)\n",
    "            \n",
    "            record = [source, flight, scheduled_departure, actual_departure, departure_gate, scheduled_arrival, actual_arrival, arrival_gate]\n",
    "            clean_claims.append(record)\n"
   ]
  },
  {
   "cell_type": "code",
   "execution_count": 6,
   "metadata": {},
   "outputs": [
    {
     "data": {
      "text/html": [
       "<div>\n",
       "<style>\n",
       "    .dataframe thead tr:only-child th {\n",
       "        text-align: right;\n",
       "    }\n",
       "\n",
       "    .dataframe thead th {\n",
       "        text-align: left;\n",
       "    }\n",
       "\n",
       "    .dataframe tbody tr th {\n",
       "        vertical-align: top;\n",
       "    }\n",
       "</style>\n",
       "<table border=\"1\" class=\"dataframe\">\n",
       "  <thead>\n",
       "    <tr style=\"text-align: right;\">\n",
       "      <th></th>\n",
       "      <th>source</th>\n",
       "      <th>flight_number</th>\n",
       "      <th>scheduled_departure</th>\n",
       "      <th>actual_departure</th>\n",
       "      <th>departure_gate</th>\n",
       "      <th>scheduled_arrival</th>\n",
       "      <th>actual_arrival</th>\n",
       "      <th>arrival_gate</th>\n",
       "    </tr>\n",
       "  </thead>\n",
       "  <tbody>\n",
       "    <tr>\n",
       "      <th>0</th>\n",
       "      <td>UA</td>\n",
       "      <td>UA-1534-RTB-IAH</td>\n",
       "      <td>2011-12-10 14:05:00</td>\n",
       "      <td>2011-12-10 17:00:00</td>\n",
       "      <td>-</td>\n",
       "      <td>2011-12-10 17:01:00</td>\n",
       "      <td>2011-12-10 19:44:00</td>\n",
       "      <td>E24</td>\n",
       "    </tr>\n",
       "    <tr>\n",
       "      <th>1</th>\n",
       "      <td>AIRTRAVELCENTER</td>\n",
       "      <td>UA-1534-RTB-IAH</td>\n",
       "      <td>NaT</td>\n",
       "      <td>2011-12-10 13:53:00</td>\n",
       "      <td>-</td>\n",
       "      <td>NaT</td>\n",
       "      <td>2011-12-10 18:18:00</td>\n",
       "      <td>-</td>\n",
       "    </tr>\n",
       "    <tr>\n",
       "      <th>2</th>\n",
       "      <td>MYRATEPLAN</td>\n",
       "      <td>UA-1534-RTB-IAH</td>\n",
       "      <td>NaT</td>\n",
       "      <td>2011-12-10 13:53:00</td>\n",
       "      <td>-</td>\n",
       "      <td>NaT</td>\n",
       "      <td>2011-12-10 18:18:00</td>\n",
       "      <td>-</td>\n",
       "    </tr>\n",
       "    <tr>\n",
       "      <th>3</th>\n",
       "      <td>HELLOFLIGHT</td>\n",
       "      <td>UA-1534-RTB-IAH</td>\n",
       "      <td>NaT</td>\n",
       "      <td>2011-12-10 13:53:00</td>\n",
       "      <td>-</td>\n",
       "      <td>NaT</td>\n",
       "      <td>2011-12-10 18:18:00</td>\n",
       "      <td>-</td>\n",
       "    </tr>\n",
       "    <tr>\n",
       "      <th>4</th>\n",
       "      <td>FLYTECOMM</td>\n",
       "      <td>UA-1534-RTB-IAH</td>\n",
       "      <td>NaT</td>\n",
       "      <td>2011-12-10 13:53:00</td>\n",
       "      <td>-</td>\n",
       "      <td>NaT</td>\n",
       "      <td>2011-12-10 18:18:00</td>\n",
       "      <td>-</td>\n",
       "    </tr>\n",
       "  </tbody>\n",
       "</table>\n",
       "</div>"
      ],
      "text/plain": [
       "            source    flight_number scheduled_departure    actual_departure  \\\n",
       "0               UA  UA-1534-RTB-IAH 2011-12-10 14:05:00 2011-12-10 17:00:00   \n",
       "1  AIRTRAVELCENTER  UA-1534-RTB-IAH                 NaT 2011-12-10 13:53:00   \n",
       "2       MYRATEPLAN  UA-1534-RTB-IAH                 NaT 2011-12-10 13:53:00   \n",
       "3      HELLOFLIGHT  UA-1534-RTB-IAH                 NaT 2011-12-10 13:53:00   \n",
       "4        FLYTECOMM  UA-1534-RTB-IAH                 NaT 2011-12-10 13:53:00   \n",
       "\n",
       "  departure_gate   scheduled_arrival      actual_arrival arrival_gate  \n",
       "0              - 2011-12-10 17:01:00 2011-12-10 19:44:00          E24  \n",
       "1              -                 NaT 2011-12-10 18:18:00            -  \n",
       "2              -                 NaT 2011-12-10 18:18:00            -  \n",
       "3              -                 NaT 2011-12-10 18:18:00            -  \n",
       "4              -                 NaT 2011-12-10 18:18:00            -  "
      ]
     },
     "execution_count": 6,
     "metadata": {},
     "output_type": "execute_result"
    }
   ],
   "source": [
    "claims = pd.DataFrame(clean_claims)\n",
    "claims.columns = header_claims\n",
    "claims.head(5)"
   ]
  },
  {
   "cell_type": "code",
   "execution_count": 7,
   "metadata": {
    "collapsed": true
   },
   "outputs": [],
   "source": [
    "claims.to_csv(all_claims_file, sep=\",\")"
   ]
  },
  {
   "cell_type": "code",
   "execution_count": 8,
   "metadata": {
    "collapsed": true
   },
   "outputs": [],
   "source": [
    "header_truth = [\n",
    "    \"flight_number\",\n",
    "    \"scheduled_departure\",\n",
    "    \"actual_departure\",\n",
    "    \"departure_gate\", \n",
    "    \"scheduled_arrival\",\n",
    "    \"actual_arrival\",\n",
    "    \"arrival_gate\",\n",
    "]"
   ]
  },
  {
   "cell_type": "code",
   "execution_count": 9,
   "metadata": {
    "collapsed": true
   },
   "outputs": [],
   "source": [
    "if os.path.isfile(all_groundtruth_file):\n",
    "    os.remove(all_groundtruth_file)"
   ]
  },
  {
   "cell_type": "code",
   "execution_count": 10,
   "metadata": {},
   "outputs": [
    {
     "name": "stdout",
     "output_type": "stream",
     "text": [
      "Importing: ../../datasets/flights/flight_truth/2011-12-08-truth.txt\n",
      "Importing: ../../datasets/flights/flight_truth/2012-01-02-truth.txt\n",
      "Importing: ../../datasets/flights/flight_truth/2011-12-25-truth.txt\n",
      "Importing: ../../datasets/flights/flight_truth/2011-12-15-truth.txt\n",
      "Importing: ../../datasets/flights/flight_truth/2011-12-14-truth.txt\n",
      "Importing: ../../datasets/flights/flight_truth/2011-12-31-truth.txt\n",
      "Importing: ../../datasets/flights/flight_truth/2011-12-03-truth.txt\n",
      "Importing: ../../datasets/flights/flight_truth/2012-01-01-truth.txt\n",
      "Importing: ../../datasets/flights/flight_truth/2011-12-04-truth.txt\n",
      "Importing: ../../datasets/flights/flight_truth/2011-12-19-truth.txt\n",
      "Importing: ../../datasets/flights/flight_truth/2011-12-28-truth.txt\n",
      "Importing: ../../datasets/flights/flight_truth/2011-12-24-truth.txt\n",
      "Importing: ../../datasets/flights/flight_truth/2011-12-18-truth.txt\n",
      "Importing: ../../datasets/flights/flight_truth/2011-12-29-truth.txt\n",
      "Importing: ../../datasets/flights/flight_truth/2011-12-12-truth.txt\n",
      "Importing: ../../datasets/flights/flight_truth/2011-12-05-truth.txt\n",
      "Importing: ../../datasets/flights/flight_truth/2011-12-01-truth.txt\n",
      "Importing: ../../datasets/flights/flight_truth/2011-12-26-truth.txt\n",
      "Importing: ../../datasets/flights/flight_truth/2011-12-30-truth.txt\n",
      "Importing: ../../datasets/flights/flight_truth/2011-12-17-truth.txt\n",
      "Importing: ../../datasets/flights/flight_truth/2011-12-02-truth.txt\n",
      "Importing: ../../datasets/flights/flight_truth/2011-12-22-truth.txt\n",
      "Importing: ../../datasets/flights/flight_truth/2011-12-16-truth.txt\n",
      "Importing: ../../datasets/flights/flight_truth/2011-12-07-truth.txt\n",
      "Importing: ../../datasets/flights/flight_truth/2011-12-10-truth.txt\n",
      "Importing: ../../datasets/flights/flight_truth/2011-12-13-truth.txt\n",
      "Importing: ../../datasets/flights/flight_truth/2011-12-27-truth.txt\n",
      "Importing: ../../datasets/flights/flight_truth/2012-01-03-truth.txt\n",
      "Importing: ../../datasets/flights/flight_truth/2011-12-11-truth.txt\n",
      "Importing: ../../datasets/flights/flight_truth/2011-12-20-truth.txt\n",
      "Importing: ../../datasets/flights/flight_truth/2011-12-09-truth.txt\n"
     ]
    }
   ],
   "source": [
    "clean_truth = list()\n",
    "\n",
    "groundtruth_files = [f for f in os.listdir(groundtruth_folder) if not f.startswith('.')]\n",
    "\n",
    "for file_name in groundtruth_files:\n",
    "    \n",
    "    file_path = os.path.join(groundtruth_folder, file_name)\n",
    "\n",
    "    print(\"Importing: \" + file_path)\n",
    "\n",
    "    with open(file_path, \"r\", encoding=\"iso-8859-1\") as f:\n",
    "        \n",
    "        reader = csv.reader(f, delimiter='\\t')\n",
    "        year, month, day, c = file_name.split(\"-\")\n",
    "        dt_ex = DatetimeExtractor(int(year), int(month), int(day))\n",
    "\n",
    "        for i, row in enumerate(reader):\n",
    "            try:\n",
    "                flight = row[header_truth.index(\"flight_number\")].strip().upper()\n",
    "                departure_gate = import_gate(row[header_truth.index(\"departure_gate\")])\n",
    "                arrival_gate = import_gate(row[header_truth.index(\"arrival_gate\")])\n",
    "                scheduled_departure = dt_ex.get_datetime(row[header_truth.index(\"scheduled_departure\")])\n",
    "                scheduled_arrival = dt_ex.get_datetime(row[header_truth.index(\"scheduled_arrival\")])\n",
    "                actual_departure = dt_ex.get_datetime(row[header_truth.index(\"actual_departure\")])\n",
    "                actual_arrival = dt_ex.get_datetime(row[header_truth.index(\"actual_arrival\")])    \n",
    "            except Exception as p:\n",
    "                print(p)\n",
    "            \n",
    "            record = [flight, scheduled_departure, actual_departure, departure_gate, scheduled_arrival, actual_arrival, arrival_gate]\n",
    "            clean_truth.append(record)"
   ]
  },
  {
   "cell_type": "code",
   "execution_count": 11,
   "metadata": {},
   "outputs": [
    {
     "data": {
      "text/html": [
       "<div>\n",
       "<style>\n",
       "    .dataframe thead tr:only-child th {\n",
       "        text-align: right;\n",
       "    }\n",
       "\n",
       "    .dataframe thead th {\n",
       "        text-align: left;\n",
       "    }\n",
       "\n",
       "    .dataframe tbody tr th {\n",
       "        vertical-align: top;\n",
       "    }\n",
       "</style>\n",
       "<table border=\"1\" class=\"dataframe\">\n",
       "  <thead>\n",
       "    <tr style=\"text-align: right;\">\n",
       "      <th></th>\n",
       "      <th>flight_number</th>\n",
       "      <th>scheduled_departure</th>\n",
       "      <th>actual_departure</th>\n",
       "      <th>departure_gate</th>\n",
       "      <th>scheduled_arrival</th>\n",
       "      <th>actual_arrival</th>\n",
       "      <th>arrival_gate</th>\n",
       "    </tr>\n",
       "  </thead>\n",
       "  <tbody>\n",
       "    <tr>\n",
       "      <th>0</th>\n",
       "      <td>AA-1221-MCO-ORD</td>\n",
       "      <td>2011-12-08 20:00:00</td>\n",
       "      <td>2011-12-08 19:52:00</td>\n",
       "      <td>16</td>\n",
       "      <td>2011-12-08 21:50:00</td>\n",
       "      <td>2011-12-08 21:24:00</td>\n",
       "      <td>H11B</td>\n",
       "    </tr>\n",
       "    <tr>\n",
       "      <th>1</th>\n",
       "      <td>AA-4307-ORD-DTW</td>\n",
       "      <td>2011-12-08 18:45:00</td>\n",
       "      <td>2011-12-08 18:37:00</td>\n",
       "      <td>H2</td>\n",
       "      <td>2011-12-08 21:10:00</td>\n",
       "      <td>2011-12-08 20:57:00</td>\n",
       "      <td>D28</td>\n",
       "    </tr>\n",
       "    <tr>\n",
       "      <th>2</th>\n",
       "      <td>AA-616-DFW-DTW</td>\n",
       "      <td>2011-12-08 09:05:00</td>\n",
       "      <td>2011-12-08 09:00:00</td>\n",
       "      <td>C24</td>\n",
       "      <td>2011-12-08 12:35:00</td>\n",
       "      <td>2011-12-08 12:20:00</td>\n",
       "      <td>D32</td>\n",
       "    </tr>\n",
       "    <tr>\n",
       "      <th>3</th>\n",
       "      <td>AA-431-MIA-SFO</td>\n",
       "      <td>2011-12-08 08:35:00</td>\n",
       "      <td>2011-12-08 08:31:00</td>\n",
       "      <td>D22</td>\n",
       "      <td>2011-12-08 11:50:00</td>\n",
       "      <td>2011-12-08 11:31:00</td>\n",
       "      <td>57</td>\n",
       "    </tr>\n",
       "    <tr>\n",
       "      <th>4</th>\n",
       "      <td>AA-3756-ORD-SLC</td>\n",
       "      <td>2011-12-08 12:15:00</td>\n",
       "      <td>2011-12-08 12:12:00</td>\n",
       "      <td>H4</td>\n",
       "      <td>2011-12-08 14:45:00</td>\n",
       "      <td>2011-12-08 14:35:00</td>\n",
       "      <td>A3</td>\n",
       "    </tr>\n",
       "  </tbody>\n",
       "</table>\n",
       "</div>"
      ],
      "text/plain": [
       "     flight_number scheduled_departure    actual_departure departure_gate  \\\n",
       "0  AA-1221-MCO-ORD 2011-12-08 20:00:00 2011-12-08 19:52:00             16   \n",
       "1  AA-4307-ORD-DTW 2011-12-08 18:45:00 2011-12-08 18:37:00             H2   \n",
       "2   AA-616-DFW-DTW 2011-12-08 09:05:00 2011-12-08 09:00:00            C24   \n",
       "3   AA-431-MIA-SFO 2011-12-08 08:35:00 2011-12-08 08:31:00            D22   \n",
       "4  AA-3756-ORD-SLC 2011-12-08 12:15:00 2011-12-08 12:12:00             H4   \n",
       "\n",
       "    scheduled_arrival      actual_arrival arrival_gate  \n",
       "0 2011-12-08 21:50:00 2011-12-08 21:24:00         H11B  \n",
       "1 2011-12-08 21:10:00 2011-12-08 20:57:00          D28  \n",
       "2 2011-12-08 12:35:00 2011-12-08 12:20:00          D32  \n",
       "3 2011-12-08 11:50:00 2011-12-08 11:31:00           57  \n",
       "4 2011-12-08 14:45:00 2011-12-08 14:35:00           A3  "
      ]
     },
     "execution_count": 11,
     "metadata": {},
     "output_type": "execute_result"
    }
   ],
   "source": [
    "groundtruth = pd.DataFrame(clean_truth)\n",
    "groundtruth.columns = header_truth\n",
    "groundtruth.head(5)"
   ]
  },
  {
   "cell_type": "code",
   "execution_count": 12,
   "metadata": {
    "collapsed": true
   },
   "outputs": [],
   "source": [
    "groundtruth.to_csv(all_groundtruth_file, sep=\",\")"
   ]
  },
  {
   "cell_type": "code",
   "execution_count": 13,
   "metadata": {
    "collapsed": true
   },
   "outputs": [],
   "source": [
    "# groundtruth -> pandas dataframe with the groundtruth\n",
    "# claims -> pandas dataframe with all the claims\n",
    "# claims = pd.read_csv(all_claims_file)\n",
    "# groundtruth = pd.read_csv(all_groundtruth_file)\n",
    "\n",
    "#     Source    Object  Property   Value   Categorical\n",
    "# 0     A         o1      p1         b          1\n",
    "# 1     B         o1      p1         a          1\n",
    "# 2     C         o1      p1         a          1\n",
    "# 3     A         o2      p2         2          0\n",
    "# 4     B         o2      p2         1          0\n",
    "# 5     C         o2      p2         1          0\n",
    "# 6     A         o3      p3         a          1"
   ]
  },
  {
   "cell_type": "code",
   "execution_count": 40,
   "metadata": {
    "collapsed": true
   },
   "outputs": [],
   "source": [
    "transformed_claims = list()"
   ]
  },
  {
   "cell_type": "code",
   "execution_count": 41,
   "metadata": {
    "collapsed": true
   },
   "outputs": [],
   "source": [
    "header_trans_claims = [\"Source\", \"Object\", \"Property\", \"Value\", \"Categorical\"]"
   ]
  },
  {
   "cell_type": "code",
   "execution_count": 42,
   "metadata": {
    "collapsed": true
   },
   "outputs": [],
   "source": [
    "from datetime import datetime\n",
    "\n",
    "def get_datetime_minutes(date_to_convert):\n",
    "    if pd.isnull(date_to_convert):\n",
    "        date_to_convert = datetime(year=2012, month=12, day=1)\n",
    "    start_date = datetime(year=2011, month=12, day=1)\n",
    "    delta = date_to_convert - start_date\n",
    "    delta_minutes = round(delta.total_seconds() / 60, 3)\n",
    "    return delta_minutes"
   ]
  },
  {
   "cell_type": "code",
   "execution_count": 43,
   "metadata": {},
   "outputs": [
    {
     "name": "stdout",
     "output_type": "stream",
     "text": [
      "Claims to transform : 776067 \n",
      "10 % done...\n",
      "20 % done...\n",
      "30 % done...\n",
      "40 % done...\n",
      "50 % done...\n",
      "60 % done...\n",
      "70 % done...\n",
      "80 % done...\n",
      "90 % done...\n",
      "100 % done...\n"
     ]
    }
   ],
   "source": [
    "# header_claims = [\n",
    "#    \"source\",\n",
    "#    \"flight_number\",\n",
    "#    \"scheduled_departure\",\n",
    "#    \"actual_departure\",\n",
    "#    \"departure_gate\", \n",
    "#    \"scheduled_arrival\",\n",
    "#    \"actual_arrival\",\n",
    "#    \"arrival_gate\",\n",
    "# ]\n",
    "\n",
    "print(\"Claims to transform : %i \" %len(claims))\n",
    "\n",
    "for i, el in claims.iterrows():\n",
    "    \n",
    "    sd = [el[\"source\"], el[\"flight_number\"], \"scheduled_departure\", get_datetime_minutes(el[\"scheduled_departure\"]), 0]\n",
    "    ad = [el[\"source\"], el[\"flight_number\"], \"actual_departure\", get_datetime_minutes(el[\"actual_departure\"]), 0]\n",
    "    dg = [el[\"source\"], el[\"flight_number\"], \"departure_gate\", el[\"departure_gate\"], 1]\n",
    "    sa = [el[\"source\"], el[\"flight_number\"], \"scheduled_arrival\", get_datetime_minutes(el[\"scheduled_arrival\"]), 0]\n",
    "    aa = [el[\"source\"], el[\"flight_number\"], \"actual_arrival\", get_datetime_minutes(el[\"actual_arrival\"]), 0]\n",
    "    ag = [el[\"source\"], el[\"flight_number\"], \"arrival_gate\", el[\"arrival_gate\"], 1]\n",
    "    \n",
    "    transformed_claims.extend([sd, ad, dg, sa, aa, ag])\n",
    "    \n",
    "    if int( (i)/len(claims) * 100 ) < int( (i+1)/len(claims) * 100 ) and int( (i+1)/len(claims) * 100 ) % 10 == 0:\n",
    "        print(int( (i+1)/len(claims) * 100 ), \"% done...\")"
   ]
  },
  {
   "cell_type": "code",
   "execution_count": 45,
   "metadata": {
    "collapsed": true
   },
   "outputs": [],
   "source": [
    "header_transformed_claims = [\"Source\", \"Object\", \"Property\", \"Value\", \"Categorical\"]\n",
    "pd_transformed_claims = pd.DataFrame(transformed_claims)\n",
    "pd_transformed_claims.columns = header_transformed_claims"
   ]
  },
  {
   "cell_type": "code",
   "execution_count": 48,
   "metadata": {},
   "outputs": [
    {
     "data": {
      "text/html": [
       "<div>\n",
       "<style>\n",
       "    .dataframe thead tr:only-child th {\n",
       "        text-align: right;\n",
       "    }\n",
       "\n",
       "    .dataframe thead th {\n",
       "        text-align: left;\n",
       "    }\n",
       "\n",
       "    .dataframe tbody tr th {\n",
       "        vertical-align: top;\n",
       "    }\n",
       "</style>\n",
       "<table border=\"1\" class=\"dataframe\">\n",
       "  <thead>\n",
       "    <tr style=\"text-align: right;\">\n",
       "      <th></th>\n",
       "      <th>Source</th>\n",
       "      <th>Object</th>\n",
       "      <th>Property</th>\n",
       "      <th>Value</th>\n",
       "      <th>Categorical</th>\n",
       "    </tr>\n",
       "  </thead>\n",
       "  <tbody>\n",
       "    <tr>\n",
       "      <th>0</th>\n",
       "      <td>UA</td>\n",
       "      <td>UA-1534-RTB-IAH</td>\n",
       "      <td>scheduled_departure</td>\n",
       "      <td>13805</td>\n",
       "      <td>0</td>\n",
       "    </tr>\n",
       "    <tr>\n",
       "      <th>1</th>\n",
       "      <td>UA</td>\n",
       "      <td>UA-1534-RTB-IAH</td>\n",
       "      <td>actual_departure</td>\n",
       "      <td>13980</td>\n",
       "      <td>0</td>\n",
       "    </tr>\n",
       "    <tr>\n",
       "      <th>2</th>\n",
       "      <td>UA</td>\n",
       "      <td>UA-1534-RTB-IAH</td>\n",
       "      <td>departure_gate</td>\n",
       "      <td>-</td>\n",
       "      <td>1</td>\n",
       "    </tr>\n",
       "    <tr>\n",
       "      <th>3</th>\n",
       "      <td>UA</td>\n",
       "      <td>UA-1534-RTB-IAH</td>\n",
       "      <td>scheduled_arrival</td>\n",
       "      <td>13981</td>\n",
       "      <td>0</td>\n",
       "    </tr>\n",
       "    <tr>\n",
       "      <th>4</th>\n",
       "      <td>UA</td>\n",
       "      <td>UA-1534-RTB-IAH</td>\n",
       "      <td>actual_arrival</td>\n",
       "      <td>14144</td>\n",
       "      <td>0</td>\n",
       "    </tr>\n",
       "    <tr>\n",
       "      <th>5</th>\n",
       "      <td>UA</td>\n",
       "      <td>UA-1534-RTB-IAH</td>\n",
       "      <td>arrival_gate</td>\n",
       "      <td>E24</td>\n",
       "      <td>1</td>\n",
       "    </tr>\n",
       "    <tr>\n",
       "      <th>6</th>\n",
       "      <td>AIRTRAVELCENTER</td>\n",
       "      <td>UA-1534-RTB-IAH</td>\n",
       "      <td>scheduled_departure</td>\n",
       "      <td>527040</td>\n",
       "      <td>0</td>\n",
       "    </tr>\n",
       "    <tr>\n",
       "      <th>7</th>\n",
       "      <td>AIRTRAVELCENTER</td>\n",
       "      <td>UA-1534-RTB-IAH</td>\n",
       "      <td>actual_departure</td>\n",
       "      <td>13793</td>\n",
       "      <td>0</td>\n",
       "    </tr>\n",
       "    <tr>\n",
       "      <th>8</th>\n",
       "      <td>AIRTRAVELCENTER</td>\n",
       "      <td>UA-1534-RTB-IAH</td>\n",
       "      <td>departure_gate</td>\n",
       "      <td>-</td>\n",
       "      <td>1</td>\n",
       "    </tr>\n",
       "    <tr>\n",
       "      <th>9</th>\n",
       "      <td>AIRTRAVELCENTER</td>\n",
       "      <td>UA-1534-RTB-IAH</td>\n",
       "      <td>scheduled_arrival</td>\n",
       "      <td>527040</td>\n",
       "      <td>0</td>\n",
       "    </tr>\n",
       "  </tbody>\n",
       "</table>\n",
       "</div>"
      ],
      "text/plain": [
       "            Source           Object             Property   Value  Categorical\n",
       "0               UA  UA-1534-RTB-IAH  scheduled_departure   13805            0\n",
       "1               UA  UA-1534-RTB-IAH     actual_departure   13980            0\n",
       "2               UA  UA-1534-RTB-IAH       departure_gate       -            1\n",
       "3               UA  UA-1534-RTB-IAH    scheduled_arrival   13981            0\n",
       "4               UA  UA-1534-RTB-IAH       actual_arrival   14144            0\n",
       "5               UA  UA-1534-RTB-IAH         arrival_gate     E24            1\n",
       "6  AIRTRAVELCENTER  UA-1534-RTB-IAH  scheduled_departure  527040            0\n",
       "7  AIRTRAVELCENTER  UA-1534-RTB-IAH     actual_departure   13793            0\n",
       "8  AIRTRAVELCENTER  UA-1534-RTB-IAH       departure_gate       -            1\n",
       "9  AIRTRAVELCENTER  UA-1534-RTB-IAH    scheduled_arrival  527040            0"
      ]
     },
     "execution_count": 48,
     "metadata": {},
     "output_type": "execute_result"
    }
   ],
   "source": [
    "pd_transformed_claims.head(10)"
   ]
  },
  {
   "cell_type": "code",
   "execution_count": 51,
   "metadata": {},
   "outputs": [
    {
     "name": "stdout",
     "output_type": "stream",
     "text": [
      "Truth to transform : 2986 \n",
      "10 % done...\n",
      "20 % done...\n",
      "30 % done...\n",
      "40 % done...\n",
      "50 % done...\n",
      "60 % done...\n",
      "70 % done...\n",
      "80 % done...\n",
      "90 % done...\n",
      "100 % done...\n"
     ]
    }
   ],
   "source": [
    "# header_truth = [\n",
    "#    \"flight_number\",\n",
    "#    \"scheduled_departure\",\n",
    "#    \"actual_departure\",\n",
    "#    \"departure_gate\", \n",
    "#    \"scheduled_arrival\",\n",
    "#    \"actual_arrival\",\n",
    "#    \"arrival_gate\",\n",
    "# ]\n",
    "\n",
    "transformed_truth = list()\n",
    "header_transformed_truth = [\"Object\", \"Property\", \"Value\", \"Categorical\"]\n",
    "\n",
    "print(\"Truth to transform : %i \" %len(groundtruth))\n",
    "\n",
    "for i, el in groundtruth.iterrows():\n",
    "    \n",
    "    sd = [el[\"flight_number\"], \"scheduled_departure\", get_datetime_minutes(el[\"scheduled_departure\"]), 0]\n",
    "    ad = [el[\"flight_number\"], \"actual_departure\", get_datetime_minutes(el[\"actual_departure\"]), 0]\n",
    "    dg = [el[\"flight_number\"], \"departure_gate\", el[\"departure_gate\"], 1]\n",
    "    sa = [el[\"flight_number\"], \"scheduled_arrival\", get_datetime_minutes(el[\"scheduled_arrival\"]), 0]\n",
    "    aa = [el[\"flight_number\"], \"actual_arrival\", get_datetime_minutes(el[\"actual_arrival\"]), 0]\n",
    "    ag = [el[\"flight_number\"], \"arrival_gate\", el[\"arrival_gate\"], 1]\n",
    "    \n",
    "    transformed_truth.extend([sd, ad, dg, sa, aa, ag])\n",
    "    \n",
    "    if int( (i)/len(groundtruth) * 100 ) < int( (i+1)/len(groundtruth) * 100 ) and int( (i+1)/len(groundtruth) * 100 ) % 10 == 0:\n",
    "        print(int( (i+1)/len(groundtruth) * 100 ), \"% done...\")"
   ]
  },
  {
   "cell_type": "code",
   "execution_count": 52,
   "metadata": {},
   "outputs": [],
   "source": [
    "pd_transformed_truth = pd.DataFrame(transformed_truth)\n",
    "pd_transformed_truth.columns = header_transformed_truth"
   ]
  },
  {
   "cell_type": "code",
   "execution_count": 53,
   "metadata": {},
   "outputs": [
    {
     "data": {
      "text/html": [
       "<div>\n",
       "<style>\n",
       "    .dataframe thead tr:only-child th {\n",
       "        text-align: right;\n",
       "    }\n",
       "\n",
       "    .dataframe thead th {\n",
       "        text-align: left;\n",
       "    }\n",
       "\n",
       "    .dataframe tbody tr th {\n",
       "        vertical-align: top;\n",
       "    }\n",
       "</style>\n",
       "<table border=\"1\" class=\"dataframe\">\n",
       "  <thead>\n",
       "    <tr style=\"text-align: right;\">\n",
       "      <th></th>\n",
       "      <th>Object</th>\n",
       "      <th>Property</th>\n",
       "      <th>Value</th>\n",
       "      <th>Categorical</th>\n",
       "    </tr>\n",
       "  </thead>\n",
       "  <tbody>\n",
       "    <tr>\n",
       "      <th>0</th>\n",
       "      <td>AA-1221-MCO-ORD</td>\n",
       "      <td>scheduled_departure</td>\n",
       "      <td>11280</td>\n",
       "      <td>0</td>\n",
       "    </tr>\n",
       "    <tr>\n",
       "      <th>1</th>\n",
       "      <td>AA-1221-MCO-ORD</td>\n",
       "      <td>actual_departure</td>\n",
       "      <td>11272</td>\n",
       "      <td>0</td>\n",
       "    </tr>\n",
       "    <tr>\n",
       "      <th>2</th>\n",
       "      <td>AA-1221-MCO-ORD</td>\n",
       "      <td>departure_gate</td>\n",
       "      <td>16</td>\n",
       "      <td>1</td>\n",
       "    </tr>\n",
       "    <tr>\n",
       "      <th>3</th>\n",
       "      <td>AA-1221-MCO-ORD</td>\n",
       "      <td>scheduled_arrival</td>\n",
       "      <td>11390</td>\n",
       "      <td>0</td>\n",
       "    </tr>\n",
       "    <tr>\n",
       "      <th>4</th>\n",
       "      <td>AA-1221-MCO-ORD</td>\n",
       "      <td>actual_arrival</td>\n",
       "      <td>11364</td>\n",
       "      <td>0</td>\n",
       "    </tr>\n",
       "    <tr>\n",
       "      <th>5</th>\n",
       "      <td>AA-1221-MCO-ORD</td>\n",
       "      <td>arrival_gate</td>\n",
       "      <td>H11B</td>\n",
       "      <td>1</td>\n",
       "    </tr>\n",
       "    <tr>\n",
       "      <th>6</th>\n",
       "      <td>AA-4307-ORD-DTW</td>\n",
       "      <td>scheduled_departure</td>\n",
       "      <td>11205</td>\n",
       "      <td>0</td>\n",
       "    </tr>\n",
       "    <tr>\n",
       "      <th>7</th>\n",
       "      <td>AA-4307-ORD-DTW</td>\n",
       "      <td>actual_departure</td>\n",
       "      <td>11197</td>\n",
       "      <td>0</td>\n",
       "    </tr>\n",
       "    <tr>\n",
       "      <th>8</th>\n",
       "      <td>AA-4307-ORD-DTW</td>\n",
       "      <td>departure_gate</td>\n",
       "      <td>H2</td>\n",
       "      <td>1</td>\n",
       "    </tr>\n",
       "    <tr>\n",
       "      <th>9</th>\n",
       "      <td>AA-4307-ORD-DTW</td>\n",
       "      <td>scheduled_arrival</td>\n",
       "      <td>11350</td>\n",
       "      <td>0</td>\n",
       "    </tr>\n",
       "  </tbody>\n",
       "</table>\n",
       "</div>"
      ],
      "text/plain": [
       "            Object             Property  Value  Categorical\n",
       "0  AA-1221-MCO-ORD  scheduled_departure  11280            0\n",
       "1  AA-1221-MCO-ORD     actual_departure  11272            0\n",
       "2  AA-1221-MCO-ORD       departure_gate     16            1\n",
       "3  AA-1221-MCO-ORD    scheduled_arrival  11390            0\n",
       "4  AA-1221-MCO-ORD       actual_arrival  11364            0\n",
       "5  AA-1221-MCO-ORD         arrival_gate   H11B            1\n",
       "6  AA-4307-ORD-DTW  scheduled_departure  11205            0\n",
       "7  AA-4307-ORD-DTW     actual_departure  11197            0\n",
       "8  AA-4307-ORD-DTW       departure_gate     H2            1\n",
       "9  AA-4307-ORD-DTW    scheduled_arrival  11350            0"
      ]
     },
     "execution_count": 53,
     "metadata": {},
     "output_type": "execute_result"
    }
   ],
   "source": [
    "pd_transformed_truth.head(10)"
   ]
  },
  {
   "cell_type": "code",
   "execution_count": 61,
   "metadata": {},
   "outputs": [
    {
     "name": "stdout",
     "output_type": "stream",
     "text": [
      "Total Claims:  4656402\n"
     ]
    }
   ],
   "source": [
    "print(\"Total Claims: \", len(pd_transformed_claims))"
   ]
  },
  {
   "cell_type": "code",
   "execution_count": 62,
   "metadata": {},
   "outputs": [
    {
     "name": "stdout",
     "output_type": "stream",
     "text": [
      "Ground Truth:  17916\n"
     ]
    }
   ],
   "source": [
    "print(\"Ground Truth: \", len(pd_transformed_truth))"
   ]
  },
  {
   "cell_type": "code",
   "execution_count": null,
   "metadata": {
    "collapsed": true
   },
   "outputs": [],
   "source": []
  }
 ],
 "metadata": {
  "kernelspec": {
   "display_name": "Python 3",
   "language": "python",
   "name": "python3"
  },
  "language_info": {
   "codemirror_mode": {
    "name": "ipython",
    "version": 3
   },
   "file_extension": ".py",
   "mimetype": "text/x-python",
   "name": "python",
   "nbconvert_exporter": "python",
   "pygments_lexer": "ipython3",
   "version": "3.5.5"
  }
 },
 "nbformat": 4,
 "nbformat_minor": 1
}
