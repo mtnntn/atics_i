{
 "cells": [
  {
   "cell_type": "code",
   "execution_count": null,
   "metadata": {
    "collapsed": false
   },
   "outputs": [],
   "source": [
    "import os\n",
    "import pandas as pd\n",
    "import numpy as np\n",
    "\n",
    "from sklearn.model_selection import train_test_split\n",
    "\n",
    "# KERAS LIBRARIES\n",
    "from keras.layers import Dense\n",
    "from keras.layers import Dropout\n",
    "from keras.models import Sequential\n",
    "from keras.optimizers import SGD\n",
    "\n",
    "path_to_claims = os.path.join(\"datasets\", \"population\", \"Population_claims.csv\")\n",
    "path_to_groundtruth = os.path.join(\"datasets\", \"population\", \"Population_groundtruth.csv\")"
   ]
  },
  {
   "cell_type": "code",
   "execution_count": null,
   "metadata": {
    "collapsed": false
   },
   "outputs": [],
   "source": [
    "# Load all the claims\n",
    "claims_input = pd.read_csv(path_to_claims)"
   ]
  },
  {
   "cell_type": "code",
   "execution_count": 5,
   "metadata": {
    "collapsed": false
   },
   "outputs": [
    {
     "data": {
      "text/html": [
       "<div>\n",
       "<table border=\"1\" class=\"dataframe\">\n",
       "  <thead>\n",
       "    <tr style=\"text-align: right;\">\n",
       "      <th></th>\n",
       "      <th>ObjectID</th>\n",
       "      <th>PropertyID</th>\n",
       "      <th>PropertyValue</th>\n",
       "      <th>SourceID</th>\n",
       "      <th>TimeStamp</th>\n",
       "    </tr>\n",
       "  </thead>\n",
       "  <tbody>\n",
       "    <tr>\n",
       "      <th>33631</th>\n",
       "      <td>bogotá</td>\n",
       "      <td>Population2005</td>\n",
       "      <td>6778691</td>\n",
       "      <td>955285: Mijotoba</td>\n",
       "      <td>null</td>\n",
       "    </tr>\n",
       "    <tr>\n",
       "      <th>16775</th>\n",
       "      <td>hutchinson township, minnesota</td>\n",
       "      <td>Population2000</td>\n",
       "      <td>1120</td>\n",
       "      <td>5512121: CapitalBot</td>\n",
       "      <td>null</td>\n",
       "    </tr>\n",
       "    <tr>\n",
       "      <th>49804</th>\n",
       "      <td>gmina sokółka</td>\n",
       "      <td>Population2006</td>\n",
       "      <td>26406</td>\n",
       "      <td>5277842: Kotbot</td>\n",
       "      <td>null</td>\n",
       "    </tr>\n",
       "    <tr>\n",
       "      <th>21872</th>\n",
       "      <td>socorro, new mexico</td>\n",
       "      <td>Population2000</td>\n",
       "      <td>8877</td>\n",
       "      <td>5512121: CapitalBot</td>\n",
       "      <td>null</td>\n",
       "    </tr>\n",
       "    <tr>\n",
       "      <th>14122</th>\n",
       "      <td>concord township, michigan</td>\n",
       "      <td>Population2000</td>\n",
       "      <td>2692</td>\n",
       "      <td>5512121: CapitalBot</td>\n",
       "      <td>null</td>\n",
       "    </tr>\n",
       "  </tbody>\n",
       "</table>\n",
       "</div>"
      ],
      "text/plain": [
       "                             ObjectID      PropertyID  PropertyValue  \\\n",
       "33631                          bogotá  Population2005        6778691   \n",
       "16775  hutchinson township, minnesota  Population2000           1120   \n",
       "49804                   gmina sokółka  Population2006          26406   \n",
       "21872             socorro, new mexico  Population2000           8877   \n",
       "14122      concord township, michigan  Population2000           2692   \n",
       "\n",
       "                  SourceID TimeStamp  \n",
       "33631     955285: Mijotoba      null  \n",
       "16775  5512121: CapitalBot      null  \n",
       "49804      5277842: Kotbot      null  \n",
       "21872  5512121: CapitalBot      null  \n",
       "14122  5512121: CapitalBot      null  "
      ]
     },
     "execution_count": 5,
     "metadata": {},
     "output_type": "execute_result"
    }
   ],
   "source": [
    "# Show one claim\n",
    "# \"ObjectID\",\"PropertyID\",\"PropertyValue\",\"SourceID\",\"TimeStamp\"\n",
    "claims_input.sample(5)"
   ]
  },
  {
   "cell_type": "code",
   "execution_count": 6,
   "metadata": {
    "collapsed": false
   },
   "outputs": [
    {
     "name": "stdout",
     "output_type": "stream",
     "text": [
      "Number of claims: 49955\n"
     ]
    }
   ],
   "source": [
    "print(\"Number of claims:\", len(claims_input))"
   ]
  },
  {
   "cell_type": "code",
   "execution_count": 7,
   "metadata": {
    "collapsed": false
   },
   "outputs": [
    {
     "name": "stdout",
     "output_type": "stream",
     "text": [
      "Number of sources: 4264\n"
     ]
    }
   ],
   "source": [
    "print(\"Number of sources:\", len(set(claims_input[\"SourceID\"])))"
   ]
  },
  {
   "cell_type": "code",
   "execution_count": 8,
   "metadata": {
    "collapsed": false
   },
   "outputs": [
    {
     "name": "stdout",
     "output_type": "stream",
     "text": [
      "Number of cities: 41196\n"
     ]
    }
   ],
   "source": [
    "print(\"Number of cities:\", len(set(claims_input[\"ObjectID\"])))"
   ]
  },
  {
   "cell_type": "code",
   "execution_count": 9,
   "metadata": {
    "collapsed": false
   },
   "outputs": [
    {
     "name": "stdout",
     "output_type": "stream",
     "text": [
      "Number of properties: 91\n"
     ]
    }
   ],
   "source": [
    "print(\"Number of properties:\", len(set(claims_input[\"PropertyID\"])))"
   ]
  },
  {
   "cell_type": "code",
   "execution_count": 10,
   "metadata": {
    "collapsed": true
   },
   "outputs": [],
   "source": [
    "# Load the ground truth\n",
    "ground_truth = pd.read_csv(path_to_groundtruth)"
   ]
  },
  {
   "cell_type": "code",
   "execution_count": 11,
   "metadata": {
    "collapsed": false
   },
   "outputs": [
    {
     "data": {
      "text/html": [
       "<div>\n",
       "<table border=\"1\" class=\"dataframe\">\n",
       "  <thead>\n",
       "    <tr style=\"text-align: right;\">\n",
       "      <th></th>\n",
       "      <th>ObjectID</th>\n",
       "      <th>PropertyID</th>\n",
       "      <th>PropertyValue</th>\n",
       "    </tr>\n",
       "  </thead>\n",
       "  <tbody>\n",
       "    <tr>\n",
       "      <th>203</th>\n",
       "      <td>perryton, texas</td>\n",
       "      <td>Population2000</td>\n",
       "      <td>7774</td>\n",
       "    </tr>\n",
       "    <tr>\n",
       "      <th>204</th>\n",
       "      <td>milan, michigan</td>\n",
       "      <td>Population2000</td>\n",
       "      <td>4775</td>\n",
       "    </tr>\n",
       "    <tr>\n",
       "      <th>88</th>\n",
       "      <td>summerville, south carolina</td>\n",
       "      <td>Population2000</td>\n",
       "      <td>27752</td>\n",
       "    </tr>\n",
       "    <tr>\n",
       "      <th>37</th>\n",
       "      <td>utica, new york</td>\n",
       "      <td>Population2000</td>\n",
       "      <td>60651</td>\n",
       "    </tr>\n",
       "    <tr>\n",
       "      <th>250</th>\n",
       "      <td>egg harbor, wisconsin</td>\n",
       "      <td>Population2000</td>\n",
       "      <td>250</td>\n",
       "    </tr>\n",
       "  </tbody>\n",
       "</table>\n",
       "</div>"
      ],
      "text/plain": [
       "                        ObjectID      PropertyID  PropertyValue\n",
       "203              perryton, texas  Population2000           7774\n",
       "204              milan, michigan  Population2000           4775\n",
       "88   summerville, south carolina  Population2000          27752\n",
       "37               utica, new york  Population2000          60651\n",
       "250        egg harbor, wisconsin  Population2000            250"
      ]
     },
     "execution_count": 11,
     "metadata": {},
     "output_type": "execute_result"
    }
   ],
   "source": [
    "# Stats:\n",
    "ground_truth.sample(5)"
   ]
  },
  {
   "cell_type": "code",
   "execution_count": 12,
   "metadata": {
    "collapsed": false
   },
   "outputs": [
    {
     "name": "stdout",
     "output_type": "stream",
     "text": [
      "Size of the test set:  308\n"
     ]
    }
   ],
   "source": [
    "print(\"Size of the test set: \", len(ground_truth))"
   ]
  },
  {
   "cell_type": "code",
   "execution_count": 13,
   "metadata": {
    "collapsed": false
   },
   "outputs": [
    {
     "name": "stdout",
     "output_type": "stream",
     "text": [
      "Number of cities:  305\n"
     ]
    }
   ],
   "source": [
    "print(\"Number of cities: \", len(set(ground_truth[\"ObjectID\"])))"
   ]
  },
  {
   "cell_type": "code",
   "execution_count": 14,
   "metadata": {
    "collapsed": false
   },
   "outputs": [
    {
     "name": "stdout",
     "output_type": "stream",
     "text": [
      "Number of years:  3\n"
     ]
    }
   ],
   "source": [
    "print(\"Number of years: \", len(set(ground_truth[\"PropertyID\"])))"
   ]
  },
  {
   "cell_type": "code",
   "execution_count": 15,
   "metadata": {
    "collapsed": true
   },
   "outputs": [],
   "source": [
    "# To represent the claims we will use a tripe (<PropertyID>, <ObjectID>, <PropertyValue>)\n",
    "# In this way we will have a matrix like: \n",
    "#\n",
    "# \"Population2000\"-\"eagle point, oregon\"-\"2020302\"\n",
    "# \"Population2005\"-\"eagle point, oregon\"-\"2022456\" \n",
    "# \"Population2000\"-\"modesto, california\"-\"9293219\"\n",
    "# ...\n",
    "# A claim like this has the meaning of \n",
    "# \"The source <SourceID> claims that <PropertyID> for <ObjectID> has the value of <PropertyValue>\"\n",
    "#\n",
    "# In our case this can be translated as:\n",
    "# \"The source <SourceID> claims that the population in the year <PropertyID> for the city <ObjectID> was <PropertyValue>\n",
    "#\n",
    "# The next phase would be the one in which we build our matrix.\n",
    "# The claim matrix is the following:\n",
    "#\n",
    "#              <PID, OID, PV> <PID, OID, PV> <PID, OID, PV> ... <PID, OID, PV>\n",
    "# <SourceID_1>       1              0              0        ...       0\n",
    "# <SourceID_2>       1              0              0        ...       0\n",
    "# <SourceID_3>       0              0              1        ...       0\n",
    "# <SourceID_4>       0              1              0        ...       0\n",
    "#     ...           ...            ...            ...       ...      ...\n",
    "# <SourceID_5>       1              0              0        ...       0\n",
    "#\n",
    "#\n",
    "# We assume that foreach claim in the ground truth, then at least one source say something on it.\n",
    "# There are only 15 claims, (PID, OID, PV), that are in the ground truth but not in the claims file.\n",
    "#\n",
    "# For this dataset we don't have a big number of claims, what can we do?\n",
    "#  - Data Augmentation: try to produce more data from the claims\n",
    "#      assuming that certain triples (not considered) are true... (how this would affect the accuracy?)\n",
    "#  - Data mining: try to find online for the years of interest the values.\n",
    "#\n",
    "# How can we proceed if there is no ground truth for a couple (<PropertyID>, <ObjectID>) ?\n",
    "# We can consider the tuple PropertyID-ObjectID from the ground truth and reason in this way:\n",
    "#  - The triple PropertyID-ObjectID-PropertyValue extracted from the ground truth will have an\n",
    "#     associated label of 1\n",
    "#  - Other claims with the same PropertyID-ObjectID can be considered and,\n",
    "#     because they have a different value from the one in the ground truth\n",
    "#     the label value will be 0.\n",
    "# \n",
    "# Should we use a range or the exact value?\n",
    "#   this would not affect the number of considered claims, since we're using the tuple PID, OID for building the sensing\n",
    "#   matrix, so we can use the exact value.\n",
    "#\n",
    "# The input of the network is a vector [S1Ci, S2Ci, S3Ci, ... , SNCi] a column of the sensing matrix, \n",
    "#    before the fit of the model we need to reshape the matrix.\n",
    "# \n",
    "# At this point we should build our sensing matrix header.\n",
    "# The header is made by the tripe (<PropertyID>, <ObjectID>, <PropertyValue>). "
   ]
  },
  {
   "cell_type": "code",
   "execution_count": 16,
   "metadata": {
    "collapsed": false
   },
   "outputs": [
    {
     "name": "stdout",
     "output_type": "stream",
     "text": [
      "Number of claims : 700\n",
      "Number of sources: 643\n"
     ]
    }
   ],
   "source": [
    "# Build the ground_truth vector.\n",
    "\n",
    "# tc_indexes is a dictionary that is used as inverted index:\n",
    "#   foreach claim it's able to tell us the position of the truth value (1/0) for a claim in the tc_labels array.\n",
    "tc_indexes = dict()\n",
    "tc_labels = np.array([], dtype=int)\n",
    "sources = set()\n",
    "\n",
    "# Add to the ground truth claims all the claims in the ground truth file and put each value at 1\n",
    "# Add to the ground truth claims also all the claims with the same propertyID and objectID\n",
    "#   but have a different PropertyValue taken from the file of claims.\n",
    "# Add also every sources that says something in a set.\n",
    "for index, row in ground_truth.iterrows():\n",
    "    tc_id = row[\"PropertyID\"]+\"|\"+row[\"ObjectID\"]+\"|\"+str(row[\"PropertyValue\"])\n",
    "    if tc_id not in tc_indexes:\n",
    "        tc_indexes[tc_id] = tc_labels.size\n",
    "        tc_labels = np.append(tc_labels, 1)\n",
    "    filtered_claims = claims_input[claims_input[\"PropertyID\"] == row[\"PropertyID\"]]\n",
    "    filtered_claims = filtered_claims[filtered_claims[\"ObjectID\"] == row[\"ObjectID\"]]\n",
    "    \n",
    "    for idx, claim in filtered_claims.iterrows():\n",
    "        if str(claim[\"PropertyValue\"]) != str(row[\"PropertyValue\"]):\n",
    "            tc_id = claim[\"PropertyID\"]+\"|\"+claim[\"ObjectID\"]+\"|\"+str(claim[\"PropertyValue\"])\n",
    "            if tc_id not in tc_indexes:\n",
    "                tc_indexes[tc_id] = tc_labels.size\n",
    "                tc_labels = np.append(tc_labels, 0)\n",
    "        sources.add(claim[\"SourceID\"])\n",
    "            \n",
    "    \n",
    "print(\"Number of claims :\", tc_labels.size)\n",
    "print(\"Number of sources:\", len(sources))"
   ]
  },
  {
   "cell_type": "code",
   "execution_count": 17,
   "metadata": {
    "collapsed": false
   },
   "outputs": [
    {
     "name": "stdout",
     "output_type": "stream",
     "text": [
      "Processed source 0 \n",
      "Processed source 200 \n",
      "Processed source 400 \n",
      "Processed source 600 \n",
      "Done...\n"
     ]
    }
   ],
   "source": [
    "# Building the sensing matrix\n",
    "\n",
    "claims_matrix = []\n",
    "\n",
    "for source_num, source in enumerate(sources):  # foreach claims\n",
    "    claim_vector = np.zeros(len(tc_indexes), dtype=int)       # initialize the vector with the claims\n",
    "    \n",
    "    source_claims = claims_input[claims_input[\"SourceID\"] == source]\n",
    "    for index, row in source_claims.iterrows():\n",
    "        row_claim = row[\"PropertyID\"]+\"|\"+row[\"ObjectID\"]+\"|\"+str(row[\"PropertyValue\"])\n",
    "        if row_claim in tc_indexes:\n",
    "            claim_vector[tc_indexes[row_claim]] = 1\n",
    "    claims_matrix.append(claim_vector)\n",
    "    if source_num % 200 == 0:\n",
    "        print(\"Processed source %i \" % source_num)\n",
    "print(\"Done...\")\n",
    "# Our claim matrix is in the form specified above."
   ]
  },
  {
   "cell_type": "code",
   "execution_count": 18,
   "metadata": {
    "collapsed": false
   },
   "outputs": [
    {
     "name": "stdout",
     "output_type": "stream",
     "text": [
      "Sensing Matrix shape:  (643, 700)\n"
     ]
    }
   ],
   "source": [
    "claims_matrix = np.array(claims_matrix, dtype=int)\n",
    "\n",
    "print(\"Sensing Matrix shape: \", claims_matrix.shape)\n"
   ]
  },
  {
   "cell_type": "code",
   "execution_count": 19,
   "metadata": {
    "collapsed": true
   },
   "outputs": [],
   "source": [
    "# Add to the claims matrix the \"Ground Truth Source\" in this way we have our input in matrix and can split, after a \n",
    "# transpose operation, the data in train set and test set.\n",
    "\n",
    "sensing_matrix_with_truth = claims_matrix.transpose()\n",
    "\n",
    "tc_labels_shaped = tc_labels.reshape(sensing_matrix_with_truth.shape[0], 1)\n",
    "claims_sources_with_truth = np.append(sensing_matrix_with_truth, tc_labels_shaped, axis=1)"
   ]
  },
  {
   "cell_type": "code",
   "execution_count": 20,
   "metadata": {
    "collapsed": true
   },
   "outputs": [],
   "source": [
    "# Defining constants...\n",
    "random_seed = 7\n",
    "\n",
    "# # INSTANCE'S CONSTANTS\n",
    "sources_num = len(sources)\n",
    "\n",
    "# # MODEL'S CONSTANTS\n",
    "train_set_size = 0.9\n",
    "test_set_size = 1-train_set_size\n",
    "\n",
    "learning_rate = 0.025\n",
    "batch_size = 20\n",
    "epochs = 150  "
   ]
  },
  {
   "cell_type": "code",
   "execution_count": 21,
   "metadata": {
    "collapsed": true
   },
   "outputs": [],
   "source": [
    "# # SPLIT IN TRAIN SET AND DATA SET.\n",
    "train_set, test_set = train_test_split(claims_sources_with_truth, train_size=train_set_size, test_size=test_set_size, random_state=random_seed)\n"
   ]
  },
  {
   "cell_type": "code",
   "execution_count": 22,
   "metadata": {
    "collapsed": true
   },
   "outputs": [],
   "source": [
    "# # EXTRACT LABELS (Yt) and SAMPLES (X) For TRAIN-SET\n",
    "train_set_x = train_set[:, 0:train_set.shape[1]-1]\n",
    "# print(train_set_x.shape)\n",
    "train_set_y = train_set[:, train_set.shape[1]-1]\n",
    "# print(train_set_y.shape)\n"
   ]
  },
  {
   "cell_type": "code",
   "execution_count": 23,
   "metadata": {
    "collapsed": true
   },
   "outputs": [],
   "source": [
    "# # EXTRACT LABELS (Yt) and SAMPLES (X) For TEST-SET\n",
    "test_set_x = test_set[:, 0:test_set.shape[1]-1]\n",
    "# print(test_set_x.shape)\n",
    "test_set_y = test_set[:, test_set.shape[1]-1]\n",
    "# print(test_set_y.shape)\n"
   ]
  },
  {
   "cell_type": "code",
   "execution_count": 24,
   "metadata": {
    "collapsed": true
   },
   "outputs": [],
   "source": [
    "# DEFINE THE MODEL\n",
    "\n",
    "# Hyper-parameters: we should find the shl_units and thl_units that provide the best performances...\n",
    "# The first layer is always equals to the number of sources\n",
    "#   because every source should say something on the available claims.\n",
    "# The other layers can vary... what's the number?\n",
    "\n",
    "fhl_units = sources_num\n",
    "shl_units = int(sources_num/2)  # this is the default according to the paper\n",
    "thl_units = shl_units\n",
    "\n",
    "model = Sequential([\n",
    "    Dense(units=fhl_units, input_dim=sources_num, activation='relu'),  # input layer\n",
    "    Dropout(0.2, noise_shape=None, seed=random_seed),\n",
    "    Dense(units=shl_units, activation='relu'),  # first hidden layer\n",
    "    Dense(units=thl_units, activation='relu'),  # second hidden layer\n",
    "    Dense(units=1, activation='sigmoid')    # output layer, 1 neuron,\n",
    "])\n"
   ]
  },
  {
   "cell_type": "code",
   "execution_count": 25,
   "metadata": {
    "collapsed": true
   },
   "outputs": [],
   "source": [
    "# # COMPILE THE MODEL\n",
    "\n",
    "# OPTIMIZER => SGD with a learning defined by the user.\n",
    "# LOSS => cross-entropy\n",
    "\n",
    "model.compile(SGD(lr=learning_rate), loss=\"binary_crossentropy\", metrics=[\"accuracy\"])"
   ]
  },
  {
   "cell_type": "code",
   "execution_count": null,
   "metadata": {
    "collapsed": false
   },
   "outputs": [
    {
     "name": "stdout",
     "output_type": "stream",
     "text": [
      "Epoch 1/150\n",
      " - 0s - loss: 0.6887 - acc: 0.5968\n",
      "Epoch 2/150\n",
      " - 0s - loss: 0.6824 - acc: 0.5587\n",
      "Epoch 3/150\n",
      " - 0s - loss: 0.6760 - acc: 0.5714\n",
      "Epoch 4/150\n",
      " - 0s - loss: 0.6702 - acc: 0.5619\n",
      "Epoch 5/150\n",
      " - 0s - loss: 0.6625 - acc: 0.6048\n",
      "Epoch 6/150\n",
      " - 0s - loss: 0.6547 - acc: 0.6492\n",
      "Epoch 7/150\n",
      " - 0s - loss: 0.6441 - acc: 0.7270\n",
      "Epoch 8/150\n",
      " - 0s - loss: 0.6335 - acc: 0.7349\n",
      "Epoch 9/150\n",
      " - 0s - loss: 0.6189 - acc: 0.7397\n",
      "Epoch 10/150\n",
      " - 0s - loss: 0.6047 - acc: 0.7397\n",
      "Epoch 11/150\n",
      " - 0s - loss: 0.5896 - acc: 0.7397\n",
      "Epoch 12/150\n",
      " - 0s - loss: 0.5753 - acc: 0.7397\n",
      "Epoch 13/150\n",
      " - 0s - loss: 0.5622 - acc: 0.7413\n",
      "Epoch 14/150\n",
      " - 0s - loss: 0.5524 - acc: 0.7397\n",
      "Epoch 15/150\n",
      " - 0s - loss: 0.5439 - acc: 0.7413\n",
      "Epoch 16/150\n",
      " - 0s - loss: 0.5377 - acc: 0.7413\n",
      "Epoch 17/150\n",
      " - 0s - loss: 0.5304 - acc: 0.7444\n",
      "Epoch 18/150\n",
      " - 0s - loss: 0.5221 - acc: 0.7460\n",
      "Epoch 19/150\n",
      " - 0s - loss: 0.5161 - acc: 0.7492\n",
      "Epoch 20/150\n",
      " - 0s - loss: 0.5068 - acc: 0.7571\n",
      "Epoch 21/150\n",
      " - 0s - loss: 0.5032 - acc: 0.7651\n",
      "Epoch 22/150\n",
      " - 0s - loss: 0.4922 - acc: 0.7603\n",
      "Epoch 23/150\n",
      " - 0s - loss: 0.4839 - acc: 0.7825\n",
      "Epoch 24/150\n",
      " - 0s - loss: 0.4767 - acc: 0.7683\n",
      "Epoch 25/150\n",
      " - 0s - loss: 0.4677 - acc: 0.7873\n",
      "Epoch 26/150\n",
      " - 0s - loss: 0.4567 - acc: 0.7857\n",
      "Epoch 27/150\n",
      " - 0s - loss: 0.4431 - acc: 0.8127\n",
      "Epoch 28/150\n",
      " - 0s - loss: 0.4349 - acc: 0.8063\n",
      "Epoch 29/150\n",
      " - 0s - loss: 0.4149 - acc: 0.8302\n",
      "Epoch 30/150\n",
      " - 0s - loss: 0.4080 - acc: 0.8238\n",
      "Epoch 31/150\n",
      " - 0s - loss: 0.3936 - acc: 0.8302\n",
      "Epoch 32/150\n",
      " - 0s - loss: 0.3744 - acc: 0.8286\n",
      "Epoch 33/150\n",
      " - 0s - loss: 0.3616 - acc: 0.8460\n",
      "Epoch 34/150\n",
      " - 0s - loss: 0.3466 - acc: 0.8492\n",
      "Epoch 35/150\n",
      " - 0s - loss: 0.3295 - acc: 0.8571\n",
      "Epoch 36/150\n",
      " - 0s - loss: 0.3119 - acc: 0.8603\n",
      "Epoch 37/150\n",
      " - 0s - loss: 0.3034 - acc: 0.8714\n",
      "Epoch 38/150\n",
      " - 0s - loss: 0.2848 - acc: 0.8889\n",
      "Epoch 39/150\n",
      " - 0s - loss: 0.2711 - acc: 0.8825\n",
      "Epoch 40/150\n",
      " - 0s - loss: 0.2560 - acc: 0.8984\n",
      "Epoch 41/150\n",
      " - 0s - loss: 0.2469 - acc: 0.9143\n",
      "Epoch 42/150\n",
      " - 0s - loss: 0.2235 - acc: 0.9270\n",
      "Epoch 43/150\n",
      " - 0s - loss: 0.2130 - acc: 0.9286\n",
      "Epoch 44/150\n",
      " - 0s - loss: 0.2023 - acc: 0.9333\n",
      "Epoch 45/150\n",
      " - 1s - loss: 0.1967 - acc: 0.9397\n",
      "Epoch 46/150\n",
      " - 0s - loss: 0.1824 - acc: 0.9302\n",
      "Epoch 47/150\n",
      " - 0s - loss: 0.1764 - acc: 0.9508\n",
      "Epoch 48/150\n",
      " - 0s - loss: 0.1656 - acc: 0.9492\n",
      "Epoch 49/150\n",
      " - 0s - loss: 0.1640 - acc: 0.9460\n",
      "Epoch 50/150\n",
      " - 0s - loss: 0.1465 - acc: 0.9571\n",
      "Epoch 51/150\n",
      " - 0s - loss: 0.1382 - acc: 0.9587\n",
      "Epoch 52/150\n",
      " - 0s - loss: 0.1366 - acc: 0.9587\n",
      "Epoch 53/150\n",
      " - 0s - loss: 0.1416 - acc: 0.9587\n",
      "Epoch 54/150\n",
      " - 0s - loss: 0.1255 - acc: 0.9619\n",
      "Epoch 55/150\n",
      " - 0s - loss: 0.1346 - acc: 0.9635\n",
      "Epoch 56/150\n",
      " - 0s - loss: 0.1257 - acc: 0.9603\n",
      "Epoch 57/150\n",
      " - 0s - loss: 0.1212 - acc: 0.9603\n",
      "Epoch 58/150\n",
      " - 0s - loss: 0.1077 - acc: 0.9603\n",
      "Epoch 59/150\n",
      " - 0s - loss: 0.1130 - acc: 0.9635\n",
      "Epoch 60/150\n",
      " - 0s - loss: 0.1032 - acc: 0.9651\n",
      "Epoch 61/150\n",
      " - 0s - loss: 0.0919 - acc: 0.9746\n",
      "Epoch 62/150\n",
      " - 0s - loss: 0.1046 - acc: 0.9571\n",
      "Epoch 63/150\n",
      " - 0s - loss: 0.1104 - acc: 0.9619\n",
      "Epoch 64/150\n",
      " - 0s - loss: 0.1029 - acc: 0.9683\n",
      "Epoch 65/150\n",
      " - 0s - loss: 0.0894 - acc: 0.9714\n",
      "Epoch 66/150\n",
      " - 0s - loss: 0.0966 - acc: 0.9714\n",
      "Epoch 67/150\n",
      " - 0s - loss: 0.0999 - acc: 0.9635\n",
      "Epoch 68/150\n",
      " - 0s - loss: 0.0833 - acc: 0.9746\n",
      "Epoch 69/150\n",
      " - 0s - loss: 0.0963 - acc: 0.9635\n",
      "Epoch 70/150\n",
      " - 0s - loss: 0.0859 - acc: 0.9746\n",
      "Epoch 71/150\n",
      " - 0s - loss: 0.0916 - acc: 0.9683\n",
      "Epoch 72/150\n",
      " - 0s - loss: 0.0833 - acc: 0.9714\n",
      "Epoch 73/150\n",
      " - 0s - loss: 0.1068 - acc: 0.9587\n",
      "Epoch 74/150\n",
      " - 0s - loss: 0.0870 - acc: 0.9730\n",
      "Epoch 75/150\n",
      " - 0s - loss: 0.0947 - acc: 0.9635\n",
      "Epoch 76/150\n",
      " - 0s - loss: 0.0846 - acc: 0.9746\n",
      "Epoch 77/150\n",
      " - 0s - loss: 0.0781 - acc: 0.9730\n",
      "Epoch 78/150\n",
      " - 0s - loss: 0.0793 - acc: 0.9746\n",
      "Epoch 79/150\n",
      " - 0s - loss: 0.0842 - acc: 0.9651\n",
      "Epoch 80/150\n",
      " - 0s - loss: 0.0817 - acc: 0.9746\n",
      "Epoch 81/150\n",
      " - 0s - loss: 0.0780 - acc: 0.9714\n",
      "Epoch 82/150\n",
      " - 0s - loss: 0.0890 - acc: 0.9762\n",
      "Epoch 83/150\n",
      " - 0s - loss: 0.0736 - acc: 0.9746\n",
      "Epoch 84/150\n",
      " - 0s - loss: 0.0702 - acc: 0.9730\n",
      "Epoch 85/150\n",
      " - 0s - loss: 0.0794 - acc: 0.9698\n",
      "Epoch 86/150\n",
      " - 0s - loss: 0.0902 - acc: 0.9683\n",
      "Epoch 87/150\n",
      " - 0s - loss: 0.0759 - acc: 0.9762\n",
      "Epoch 88/150\n",
      " - 0s - loss: 0.0915 - acc: 0.9698\n",
      "Epoch 89/150\n",
      " - 0s - loss: 0.0843 - acc: 0.9698\n",
      "Epoch 90/150\n",
      " - 0s - loss: 0.0725 - acc: 0.9730\n",
      "Epoch 91/150\n",
      " - 0s - loss: 0.0887 - acc: 0.9603\n",
      "Epoch 92/150\n",
      " - 0s - loss: 0.0788 - acc: 0.9683\n",
      "Epoch 93/150\n",
      " - 0s - loss: 0.0822 - acc: 0.9587\n",
      "Epoch 94/150\n",
      " - 0s - loss: 0.0866 - acc: 0.9730\n",
      "Epoch 95/150\n",
      " - 0s - loss: 0.0811 - acc: 0.9683\n",
      "Epoch 96/150\n",
      " - 0s - loss: 0.0767 - acc: 0.9730\n",
      "Epoch 97/150\n",
      " - 0s - loss: 0.0869 - acc: 0.9683\n",
      "Epoch 98/150\n",
      " - 0s - loss: 0.0724 - acc: 0.9683\n",
      "Epoch 99/150\n",
      " - 0s - loss: 0.0740 - acc: 0.9730\n",
      "Epoch 100/150\n",
      " - 0s - loss: 0.0818 - acc: 0.9730\n",
      "Epoch 101/150\n",
      " - 0s - loss: 0.0716 - acc: 0.9730\n",
      "Epoch 102/150\n",
      " - 0s - loss: 0.0715 - acc: 0.9746\n",
      "Epoch 103/150\n",
      " - 0s - loss: 0.0850 - acc: 0.9698\n",
      "Epoch 104/150\n",
      " - 0s - loss: 0.0770 - acc: 0.9667\n",
      "Epoch 105/150\n",
      " - 0s - loss: 0.0808 - acc: 0.9683\n",
      "Epoch 106/150\n",
      " - 0s - loss: 0.0696 - acc: 0.9746\n",
      "Epoch 107/150\n",
      " - 0s - loss: 0.0942 - acc: 0.9587\n",
      "Epoch 108/150\n",
      " - 0s - loss: 0.0762 - acc: 0.9714\n",
      "Epoch 109/150\n",
      " - 0s - loss: 0.0739 - acc: 0.9714\n",
      "Epoch 110/150\n",
      " - 0s - loss: 0.0841 - acc: 0.9651\n",
      "Epoch 111/150\n",
      " - 0s - loss: 0.0713 - acc: 0.9714\n",
      "Epoch 112/150\n",
      " - 0s - loss: 0.0752 - acc: 0.9714\n",
      "Epoch 113/150\n",
      " - 0s - loss: 0.0748 - acc: 0.9698\n"
     ]
    }
   ],
   "source": [
    "# # FIT THE MODEL\n",
    "\n",
    "history = model.fit(train_set_x, train_set_y, batch_size=batch_size, epochs=epochs, verbose=2)"
   ]
  },
  {
   "cell_type": "code",
   "execution_count": null,
   "metadata": {
    "collapsed": true
   },
   "outputs": [],
   "source": [
    "# # TESTING THE MODEL\n",
    "\n",
    "evaluation = model.evaluate(x=test_set_x, y=test_set_y, batch_size=batch_size, verbose=2)\n",
    "\n",
    "print(\"\\n%s: %.2f%% - %s: %.2f%%\" %\n",
    "      (model.metrics_names[0], evaluation[0]*100, model.metrics_names[1], evaluation[1]*100))"
   ]
  }
 ],
 "metadata": {
  "kernelspec": {
   "display_name": "Python 3",
   "language": "python",
   "name": "python3"
  },
  "language_info": {
   "codemirror_mode": {
    "name": "ipython",
    "version": 3
   },
   "file_extension": ".py",
   "mimetype": "text/x-python",
   "name": "python",
   "nbconvert_exporter": "python",
   "pygments_lexer": "ipython3",
   "version": "3.5.4"
  }
 },
 "nbformat": 4,
 "nbformat_minor": 1
}
